{
 "cells": [
  {
   "cell_type": "code",
   "execution_count": 1,
   "metadata": {},
   "outputs": [
    {
     "name": "stderr",
     "output_type": "stream",
     "text": [
      "/home/eugeny/anaconda3/envs/newgpu/lib/python3.10/site-packages/tqdm/auto.py:22: TqdmWarning: IProgress not found. Please update jupyter and ipywidgets. See https://ipywidgets.readthedocs.io/en/stable/user_install.html\n",
      "  from .autonotebook import tqdm as notebook_tqdm\n"
     ]
    }
   ],
   "source": [
    "from pathlib import Path\n",
    "from typing import List\n",
    "\n",
    "import torch\n",
    "import torchaudio\n",
    "import pandas as pd\n",
    "import numpy as np\n",
    "\n",
    "import IPython.display as ipd"
   ]
  },
  {
   "cell_type": "code",
   "execution_count": 2,
   "metadata": {},
   "outputs": [],
   "source": [
    "class TestSpotterDataset(torch.utils.data.Dataset):\n",
    "    def __init__(self, manifest_path: Path, transform):\n",
    "        super().__init__()\n",
    "        \n",
    "        self.transform = transform\n",
    "        manifest = pd.read_csv(manifest_path)\n",
    "        self.wav_files = [\n",
    "            manifest_path.parent / wav_path for wav_path in manifest.path\n",
    "        ]\n",
    "        self.labels = manifest.index.values\n",
    "        \n",
    "    def __len__(self):\n",
    "        return len(self.wav_files)\n",
    "    \n",
    "    def __getitem__(self, idx):\n",
    "        wav, sr = torchaudio.load(self.wav_files[idx])\n",
    "        features = self.transform(wav)\n",
    "        return wav[0], features, self.labels[idx]"
   ]
  },
  {
   "cell_type": "code",
   "execution_count": 3,
   "metadata": {},
   "outputs": [],
   "source": [
    "from model import Conv1dNet\n",
    "weights = '/home/eugeny/soundmipt/hw2/runs/Normalized-V4/Normalized-V4-epoch=153-step=7392-val_loss=0.3072.ckpt'\n",
    "model = Conv1dNet.load_from_checkpoint(weights)"
   ]
  },
  {
   "cell_type": "code",
   "execution_count": 4,
   "metadata": {},
   "outputs": [],
   "source": [
    "model.eval()\n",
    "\n",
    "class SpecScaler(torch.nn.Module):\n",
    "    def forward(self, x):\n",
    "        return torch.log(x.clamp_(1e-9, 1e9))\n",
    "\n",
    "def collator(data):\n",
    "    specs = []\n",
    "    labels = []\n",
    "    for wav, features, label in data:\n",
    "        specs.append(features)\n",
    "        labels.append(label)\n",
    "    specs = torch.cat(specs)  \n",
    "    labels = torch.Tensor(labels).long()\n",
    "    return specs, labels\n",
    "\n",
    "val_transform = torch.nn.Sequential(\n",
    "    torchaudio.transforms.MelSpectrogram(sample_rate=model.conf.sample_rate, **model.conf.features),\n",
    "    SpecScaler()\n",
    ")\n",
    "test_dataloader = torch.utils.data.DataLoader(\n",
    "    dataset=TestSpotterDataset(\n",
    "        manifest_path=Path('/home/eugeny/Datasets/keyword-spotting/test/test/manifest.csv'),\n",
    "        transform=val_transform\n",
    "    ),\n",
    "    collate_fn=collator,\n",
    "    batch_size=64,\n",
    "    shuffle=False\n",
    ")"
   ]
  },
  {
   "cell_type": "code",
   "execution_count": 5,
   "metadata": {},
   "outputs": [],
   "source": [
    "index_lst, label_lst = [], []\n",
    "\n",
    "model = model.to('cuda')\n",
    "for inputs, idx in test_dataloader:\n",
    "    with torch.no_grad():\n",
    "        preds = model(inputs.to(model.conf.device)).argmax(-1).cpu().tolist()\n",
    "    \n",
    "    label_lst.extend([model.conf.idx_to_keyword[idx] for idx in preds])\n",
    "    index_lst.extend(idx.tolist())"
   ]
  },
  {
   "cell_type": "code",
   "execution_count": 6,
   "metadata": {},
   "outputs": [],
   "source": [
    "(\n",
    "    pd.DataFrame({'index': index_lst, 'label': label_lst})\n",
    "    .to_csv('submit.csv', index=False)\n",
    ")"
   ]
  },
  {
   "cell_type": "code",
   "execution_count": null,
   "metadata": {},
   "outputs": [],
   "source": []
  }
 ],
 "metadata": {
  "kernelspec": {
   "display_name": "Python 3.10.4 ('newgpu': conda)",
   "language": "python",
   "name": "python3"
  },
  "language_info": {
   "codemirror_mode": {
    "name": "ipython",
    "version": 3
   },
   "file_extension": ".py",
   "mimetype": "text/x-python",
   "name": "python",
   "nbconvert_exporter": "python",
   "pygments_lexer": "ipython3",
   "version": "3.10.4"
  },
  "orig_nbformat": 4,
  "vscode": {
   "interpreter": {
    "hash": "5b6ca8635d89ff606273c922d0f7610ec8c33887c148966d0b1a92230d93bac2"
   }
  }
 },
 "nbformat": 4,
 "nbformat_minor": 2
}
